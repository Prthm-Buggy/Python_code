{
 "cells": [
  {
   "cell_type": "code",
   "execution_count": null,
   "metadata": {},
   "outputs": [
    {
     "name": "stdout",
     "output_type": "stream",
     "text": [
      "Square Pattern\n"
     ]
    }
   ],
   "source": [
    "#Square Pattern\n",
    "print(\"Square Pattern\")"
   ]
  }
 ],
 "metadata": {
  "kernelspec": {
   "display_name": "Python 3",
   "language": "python",
   "name": "python3"
  },
  "language_info": {
   "codemirror_mode": {
    "name": "ipython",
    "            print('*', end=' ')\n",
    "        print()\n",
    "\n",
    "square_pattern_1(5)"
   ]
  },
  {
   "cell_type": "code",
   "execution_count": 3,
   "metadata": {},
   "outputs": [],
   "source": [
    "# Method 2: Using string multiplication\n",
    "def square_pattern_2(n):\n",
    "    for i in range(n):\n",
    "        print('* ' * n)\n",
    "\n",
    "square_pattern_2(5)"
   ]
  },
  {
   "cell_type": "code",
   "execution_count": 4,
   "metadata": {},
   "outputs": [],
   "source": [
    "# Method 3: Using list comprehension\n",
    "def square_pattern_3(n):\n",
    "    pattern = ['* ' * n for _ in range(n)]\n",
    "    print('\\n'.join(pattern))\n",
    "\n",
    "square_pattern_3(5)"
   ]
  }
 ],
 "metadata": {
  "kernelspec": {
   "display_name": "Python 3",
   "language": "python",
   "name": "python3"
  },
  "language_info": {
   "codemirror_mode": {
    "name": "ipython",
    "version": 3
   },
   "file_extension": ".py",
   "mimetype": "text/x-python",
   "name": "python",
   "nbconvert_exporter": "python",
   "pygments_lexer": "ipython3",
   "version": "3.12.4"
  }
 },
 "nbformat": 4,
 "nbformat_minor": 2
}
