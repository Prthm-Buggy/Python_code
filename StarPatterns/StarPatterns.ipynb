{
 "cells": [
  {
   "cell_type": "code",
   "execution_count": 1,
   "metadata": {},
   "outputs": [
    {
     "name": "stdout",
     "output_type": "stream",
     "text": [
      "\u001b[31mi=0\u001b[0m\t\u001b[31mi=0\u001b[0m\t\u001b[31mi=0\u001b[0m\t\u001b[31mi=0\u001b[0m\t\u001b[31mi=0\u001b[0m\t\n",
      " \u001b[35m*\u001b[0m \u001b[34mj=0\u001b[0m\t \u001b[35m*\u001b[0m \u001b[34mj=1\u001b[0m\t \u001b[35m*\u001b[0m \u001b[34mj=2\u001b[0m\t \u001b[35m*\u001b[0m \u001b[34mj=3\u001b[0m\t \u001b[35m*\u001b[0m \u001b[34mj=4\u001b[0m\t\n",
      "\u001b[31mi=1\u001b[0m\t\u001b[31mi=1\u001b[0m\t\u001b[31mi=1\u001b[0m\t\u001b[31mi=1\u001b[0m\t\u001b[31mi=1\u001b[0m\t\n",
      " \u001b[35m*\u001b[0m \u001b[34mj=0\u001b[0m\t \u001b[35m*\u001b[0m \u001b[34mj=1\u001b[0m\t \u001b[35m*\u001b[0m \u001b[34mj=2\u001b[0m\t \u001b[35m*\u001b[0m \u001b[34mj=3\u001b[0m\t \u001b[35m*\u001b[0m \u001b[34mj=4\u001b[0m\t\n",
      "\u001b[31mi=2\u001b[0m\t\u001b[31mi=2\u001b[0m\t\u001b[31mi=2\u001b[0m\t\u001b[31mi=2\u001b[0m\t\u001b[31mi=2\u001b[0m\t\n",
      " \u001b[35m*\u001b[0m \u001b[34mj=0\u001b[0m\t \u001b[35m*\u001b[0m \u001b[34mj=1\u001b[0m\t \u001b[35m*\u001b[0m \u001b[34mj=2\u001b[0m\t \u001b[35m*\u001b[0m \u001b[34mj=3\u001b[0m\t \u001b[35m*\u001b[0m \u001b[34mj=4\u001b[0m\t\n",
      "\u001b[31mi=3\u001b[0m\t\u001b[31mi=3\u001b[0m\t\u001b[31mi=3\u001b[0m\t\u001b[31mi=3\u001b[0m\t\u001b[31mi=3\u001b[0m\t\n",
      " \u001b[35m*\u001b[0m \u001b[34mj=0\u001b[0m\t \u001b[35m*\u001b[0m \u001b[34mj=1\u001b[0m\t \u001b[35m*\u001b[0m \u001b[34mj=2\u001b[0m\t \u001b[35m*\u001b[0m \u001b[34mj=3\u001b[0m\t \u001b[35m*\u001b[0m \u001b[34mj=4\u001b[0m\t\n",
      "\u001b[31mi=4\u001b[0m\t\u001b[31mi=4\u001b[0m\t\u001b[31mi=4\u001b[0m\t\u001b[31mi=4\u001b[0m\t\u001b[31mi=4\u001b[0m\t\n",
      " \u001b[35m*\u001b[0m \u001b[34mj=0\u001b[0m\t \u001b[35m*\u001b[0m \u001b[34mj=1\u001b[0m\t \u001b[35m*\u001b[0m \u001b[34mj=2\u001b[0m\t \u001b[35m*\u001b[0m \u001b[34mj=3\u001b[0m\t \u001b[35m*\u001b[0m \u001b[34mj=4\u001b[0m\t\n"
     ]
    }
   ],
   "source": [
    "from colorama import Fore, Style # type: ignore\n",
    "\n",
    "for i in range(5): \n",
    "    for j in range(5):  \n",
    "        print(f\"{Fore.RED}i={i}{Style.RESET_ALL}\", end=\"\\t\")  \n",
    "    print() \n",
    "\n",
    "    for j in range(5): \n",
    "        print(f\" {Fore.MAGENTA}*{Style.RESET_ALL} {Fore.BLUE}j={j}{Style.RESET_ALL}\", end=\"\\t\")  \n",
    "    print()  "
   ]
  },
  {
   "cell_type": "code",
   "execution_count": 129,
   "metadata": {},
   "outputs": [
    {
     "name": "stdout",
     "output_type": "stream",
     "text": [
      "1 1 1 1 \n",
      "2 2 2 2 \n",
      "3 3 3 3 \n",
      "4 4 4 4 \n"
     ]
    }
   ],
   "source": [
    "for i in range(1,5):\n",
    "    for j in range(1,5):\n",
    "        print(f'{i}', end=' ')\n",
    "    print()\n",
    "\n"
   ]
  },
  {
   "cell_type": "code",
   "execution_count": 2,
   "metadata": {},
   "outputs": [
    {
     "name": "stdout",
     "output_type": "stream",
     "text": [
      "* * * * * \n",
      "* * * *   \n",
      "* * *     \n",
      "* *       \n",
      "*         \n"
     ]
    }
   ],
   "source": [
    "n = 6\n",
    "for i in range(1,n):\n",
    "    for j in range(1,n):\n",
    "        if j <= n - i:\n",
    "            print(\"*\",end=' ')\n",
    "        else:\n",
    "            print(' ',end=' ')\n",
    "    print()"
   ]
  },
  {
   "cell_type": "code",
   "execution_count": 1,
   "metadata": {},
   "outputs": [
    {
     "name": "stdout",
     "output_type": "stream",
     "text": [
      "*   * \n",
      "*   * \n",
      "*   * \n",
      "*   * \n"
     ]
    }
   ],
   "source": [
    "#PAREALAL BARS\n",
    "n = 4\n",
    "for i in range(n):\n",
    "    for j in range(n):\n",
    "        if (j ==0 or j== n-1):\n",
    "            print(\"*\",end=' ')\n",
    "        else:\n",
    "            print(\"\", end=' ')\n",
    "    print()"
   ]
  },
  {
   "cell_type": "code",
   "execution_count": 34,
   "metadata": {},
   "outputs": [
    {
     "name": "stdout",
     "output_type": "stream",
     "text": [
      "* * * * * \n",
      "  * * * * \n",
      "    * * * \n",
      "      * * \n",
      "        * \n"
     ]
    }
   ],
   "source": [
    "n = 6\n",
    "for i in range(1,n):\n",
    "    for j in range(1,n):\n",
    "        if j>=i:\n",
    "            print(\"*\", end=' ')\n",
    "        else:\n",
    "            print(\" \", end=' ')\n",
    "    print()\n",
    "    # Pyramid"
   ]
  },
  {
   "cell_type": "code",
   "execution_count": 51,
   "metadata": {},
   "outputs": [
    {
     "name": "stdout",
     "output_type": "stream",
     "text": [
      "*     \n",
      "* *    \n",
      "* * *   \n",
      "* * * *  \n",
      "* * * * * \n"
     ]
    }
   ],
   "source": [
    "#left-aligned star pattern\n",
    "n = 6\n",
    "for i in range(1,n):\n",
    "    for j in range(1,n):\n",
    "        if j <= i:\n",
    "            print(\"*\",end=' ')\n",
    "        else:\n",
    "            print('',end=' ')\n",
    "    print()\n"
   ]
  },
  {
   "cell_type": "code",
   "execution_count": 36,
   "metadata": {},
   "outputs": [
    {
     "name": "stdout",
     "output_type": "stream",
     "text": [
      "        * \n",
      "      * * \n",
      "    * * * \n",
      "  * * * * \n",
      "* * * * * \n"
     ]
    }
   ],
   "source": [
    "\n",
    "n = 6\n",
    "for i in range(1,n):\n",
    "    for j in range(1,n):\n",
    "        if j >= n - i:\n",
    "            print(\"*\",end=' ')\n",
    "        else:\n",
    "            print(' ',end=' ')\n",
    "    print()\n",
    "\n"
   ]
  },
  {
   "cell_type": "code",
   "execution_count": 99,
   "metadata": {},
   "outputs": [
    {
     "name": "stdout",
     "output_type": "stream",
     "text": [
      "   *\n",
      "  ***\n",
      " *****\n",
      "*******\n"
     ]
    }
   ],
   "source": [
    "n = 4 \n",
    "for i in range(1, n+1):\n",
    "    \n",
    "    for j in range(n-i):\n",
    "        print(\" \", end=\"\")\n",
    "\n",
    "    for k in range(2*i-1):\n",
    "        print(\"*\", end=\"\")\n",
    "    print()\n"
   ]
  },
  {
   "cell_type": "code",
   "execution_count": 73,
   "metadata": {},
   "outputs": [
    {
     "name": "stdout",
     "output_type": "stream",
     "text": [
      "*********\n",
      " *******\n",
      "  *****\n",
      "   ***\n",
      "    *\n"
     ]
    }
   ],
   "source": [
    "def print_inverted_pyramid(rows):\n",
    "    \n",
    "    for i in range(rows, 0, -1):\n",
    "        for j in range(rows - i):\n",
    "            print(\" \", end=\"\")\n",
    "        for k in range(2 * i - 1):\n",
    "            print(\"*\", end=\"\")\n",
    "        print()\n",
    "\n",
    "# Example usage:\n",
    "rows = 5\n",
    "print_inverted_pyramid(rows)"
   ]
  },
  {
   "cell_type": "code",
   "execution_count": 53,
   "metadata": {},
   "outputs": [
    {
     "name": "stdout",
     "output_type": "stream",
     "text": [
      "* * * * * * * \n",
      "* * *   * * * \n",
      "* *       * * \n",
      "*           * \n",
      "              \n",
      "              \n"
     ]
    }
   ],
   "source": [
    "for i in range(1,7):\n",
    "    for j in range(1,8):\n",
    "        if j <= 5-i or j >= 3+i:\n",
    "            print(\"*\", end=' ')\n",
    "        else:\n",
    "            print(\" \",end=' ')\n",
    "    print()"
   ]
  },
  {
   "cell_type": "code",
   "execution_count": 57,
   "metadata": {},
   "outputs": [
    {
     "name": "stdout",
     "output_type": "stream",
     "text": [
      "     *\n",
      "    ***\n",
      "   *****\n",
      "  *******\n",
      " *********\n",
      "  *******\n",
      "   *****\n",
      "    ***\n",
      "     *\n"
     ]
    }
   ],
   "source": [
    "n = 5  # Adjust the number of rows for the diamond\n",
    "\n",
    "for i in range(1, n + 1):\n",
    "    for j in range(n - i + 1):\n",
    "        print(\" \", end=\"\")\n",
    "    for j in range(2 * i - 1):\n",
    "        print(\"*\", end=\"\")\n",
    "    print()\n",
    "\n",
    "for i in range(n - 1, 0, -1):\n",
    "    for j in range(n - i + 1):\n",
    "        print(\" \", end=\"\")\n",
    "    for j in range(2 * i - 1):\n",
    "        print(\"*\", end=\"\")\n",
    "    print()"
   ]
  },
  {
   "cell_type": "code",
   "execution_count": 3,
   "metadata": {},
   "outputs": [
    {
     "name": "stdout",
     "output_type": "stream",
     "text": [
      "* \n",
      "* * \n",
      "* * * \n",
      "* * * * \n",
      "* * * * * \n"
     ]
    }
   ],
   "source": [
    "n = 6\n",
    "for i in range(1, n):\n",
    "    for j in range(i):\n",
    "        print(\"*\", end=\" \")\n",
    "    print()\n"
   ]
  },
  {
   "cell_type": "code",
   "execution_count": 42,
   "metadata": {},
   "outputs": [
    {
     "name": "stdout",
     "output_type": "stream",
     "text": [
      "Left Triangle\n",
      "\n",
      "1 \n",
      "2 2 \n",
      "3 3 3 \n",
      "4 4 4 4 \n",
      "5 5 5 5 5 \n",
      "\n",
      "Right Triangle\n",
      "\n",
      "5 5 5 5 5 \n",
      "4 4 4 4 \n",
      "3 3 3 \n",
      "2 2 \n",
      "1 \n"
     ]
    }
   ],
   "source": [
    "print(\"Left Triangle\\n\")\n",
    "n = 6\n",
    "for i in range(1, n):\n",
    "    print(f'{i} ' * i)\n",
    "print()\n",
    "\n",
    "#-------------------------\n",
    "print(\"Right Triangle\\n\")\n",
    "n = 5\n",
    "for i in range(n, 0, -1):\n",
    "    print(f'{i} '*i)\n",
    "\n",
    "    \n"
   ]
  },
  {
   "cell_type": "code",
   "execution_count": 82,
   "metadata": {},
   "outputs": [
    {
     "name": "stdout",
     "output_type": "stream",
     "text": [
      "Right Angle_Triangle\n",
      "      \n",
      "      1\n",
      "     2 2\n",
      "    3 3 3\n",
      "   4 4 4 4\n",
      "  5 5 5 5 5\n",
      "\n",
      "Reversed Right Angle_Triangle\n",
      "\n",
      " 5 5 5 5 5\n",
      "  4 4 4 4\n",
      "   3 3 3\n",
      "    2 2\n",
      "     1\n"
     ]
    }
   ],
   "source": [
    "print(\"Right Angle_Triangle\")\n",
    "n = 6\n",
    "for i in range( n):\n",
    "    print(\" \"* (n - i) + f' {i}' * i)\n",
    "print()\n",
    "    \n",
    "#=========================================\n",
    "print(\"Reversed Right Angle_Triangle\")\n",
    "print()\n",
    "n = 5\n",
    "for i in range(n,0,-1):\n",
    "    print( \" \" * (n - i) + f' {i}' * i)"
   ]
  },
  {
   "cell_type": "code",
   "execution_count": 134,
   "metadata": {},
   "outputs": [
    {
     "name": "stdout",
     "output_type": "stream",
     "text": [
      "*       * \n",
      "  *   *   \n",
      "    *     \n",
      "  *   *   \n",
      "*       * \n"
     ]
    }
   ],
   "source": [
    "n = 5\n",
    "for i in range(n):\n",
    "    for j in range(n):\n",
    "        if i == j or i + j == n - 1:\n",
    "            print(\"*\", end=\" \")\n",
    "        else:\n",
    "            print(\" \", end=\" \")\n",
    "    print()\n"
   ]
  },
  {
   "cell_type": "code",
   "execution_count": 2,
   "metadata": {},
   "outputs": [
    {
     "name": "stdout",
     "output_type": "stream",
     "text": [
      "*         * \n",
      "* *       * * \n",
      "* * *     * * * \n",
      "* * * *   * * * * \n",
      "* * * * * * * * * * \n"
     ]
    }
   ],
   "source": [
    "n = 5\n",
    "for i in range(1, n + 1):\n",
    "    print(\"* \" * i + \"  \" * (n - i) + \"* \" * i)\n"
   ]
  },
  {
   "cell_type": "code",
   "execution_count": 92,
   "metadata": {},
   "outputs": [
    {
     "name": "stdout",
     "output_type": "stream",
     "text": [
      "   1\n",
      "  222\n",
      " 33333\n",
      "4444444\n"
     ]
    }
   ],
   "source": [
    "def print_triangle(rows):\n",
    "\n",
    "    for i in range(1, rows + 1):\n",
    "        spaces = \" \" * (rows - i)\n",
    "        stars = f'{i}' * (2 * i - 1)\n",
    "        print(spaces + stars)\n",
    "rows = int(input(\"Enter the number of rows: \"))\n",
    "\n",
    "print_triangle(rows)"
   ]
  }
 ],
 "metadata": {
  "kernelspec": {
   "display_name": "Python 3",
   "language": "python",
   "name": "python3"
  },
  "language_info": {
   "codemirror_mode": {
    "name": "ipython",
    "version": 3
   },
   "file_extension": ".py",
   "mimetype": "text/x-python",
   "name": "python",
   "nbconvert_exporter": "python",
   "pygments_lexer": "ipython3",
   "version": "3.12.4"
  }
 },
 "nbformat": 4,
 "nbformat_minor": 2
}
