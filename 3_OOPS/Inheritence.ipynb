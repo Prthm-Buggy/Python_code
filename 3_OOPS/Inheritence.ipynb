{
 "cells": [
  {
   "cell_type": "code",
   "execution_count": 13,
   "metadata": {},
   "outputs": [
    {
     "name": "stdout",
     "output_type": "stream",
     "text": [
      "I am Parent class\n",
      "I am child class\n"
     ]
    }
   ],
   "source": [
    "class A:\n",
    "    def Parent(self):\n",
    "        print(\"I am Parent class\")\n",
    "class B(A):\n",
    "    def Child(self):\n",
    "        print(\"I am child class\")\n",
    "val = B()\n",
    "val.Parent()\n",
    "val.Child()\n"
   ]
  },
  {
   "cell_type": "code",
   "execution_count": 10,
   "metadata": {},
   "outputs": [
    {
     "name": "stdout",
     "output_type": "stream",
     "text": [
      "True\n"
     ]
    }
   ],
   "source": [
    "class Solution:\n",
    "    def check(self, nums):\n",
    "        count = 0\n",
    "        n = len(nums)\n",
    "        \n",
    "        for i in range(n):\n",
    "            if nums[i] > nums[(i + 1) % n]:\n",
    "                count += 1\n",
    "            elif count > 1:\n",
    "                return False\n",
    "                \n",
    "        return count <= 1\n",
    "\n",
    "solution = Solution()\n",
    "nums = [3, 4, 5, 1, 2] \n",
    "result = solution.check(nums) \n",
    "print(result)  "
   ]
  }
 ],
 "metadata": {
  "kernelspec": {
   "display_name": "Python 3",
   "language": "python",
   "name": "python3"
  },
  "language_info": {
   "codemirror_mode": {
    "name": "ipython",
    "version": 3
   },
   "file_extension": ".py",
   "mimetype": "text/x-python",
   "name": "python",
   "nbconvert_exporter": "python",
   "pygments_lexer": "ipython3",
   "version": "3.12.4"
  }
 },
 "nbformat": 4,
 "nbformat_minor": 2
}
