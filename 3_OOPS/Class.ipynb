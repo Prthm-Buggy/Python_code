{
 "cells": [
  {
   "cell_type": "code",
   "execution_count": null,
   "metadata": {},
   "outputs": [],
   "source": [
    "# # Python Classes/Objects\n",
    "# Think of a class as a blueprint. It’s like a plan or template that tells how something should be made.\n",
    "# An object is the actual thing created using that blueprint."
   ]
  },
  {
   "cell_type": "code",
   "execution_count": null,
   "metadata": {},
   "outputs": [
    {
     "name": "stdout",
     "output_type": "stream",
     "text": [
      "<__main__.car object at 0x000002B0A9C818E0>\n"
     ]
    }
   ],
   "source": [
    "class car: #Class (blueprint) tell how something is\n",
    "    #pass say's \"don't do any thing for now\"\n",
    "    pass # when you don't know that to assing you can just pass it using pass()\n",
    "p1 = car() # Calling the class by createing a object that referes to the class\n",
    "print(p1)"
   ]
  },
  {
   "cell_type": "code",
   "execution_count": null,
   "metadata": {},
   "outputs": [
    {
     "name": "stdout",
     "output_type": "stream",
     "text": [
      "Tesla\n"
     ]
    },
    {
     "ename": "NameError",
     "evalue": "name 'brand' is not defined",
     "output_type": "error",
     "traceback": [
      "\u001b[1;31m---------------------------------------------------------------------------\u001b[0m",
      "\u001b[1;31mNameError\u001b[0m                                 Traceback (most recent call last)",
      "Cell \u001b[1;32mIn[4], line 11\u001b[0m\n\u001b[0;32m      8\u001b[0m         \u001b[38;5;28mprint\u001b[39m(\u001b[38;5;124mf\u001b[39m\u001b[38;5;124m\"\u001b[39m\u001b[38;5;124mThe car is a \u001b[39m\u001b[38;5;132;01m{\u001b[39;00mbrand\u001b[38;5;132;01m}\u001b[39;00m\u001b[38;5;124m in \u001b[39m\u001b[38;5;132;01m{\u001b[39;00mcolor\u001b[38;5;132;01m}\u001b[39;00m\u001b[38;5;124m.\u001b[39m\u001b[38;5;124m\"\u001b[39m)  \u001b[38;5;66;03m# This will throw an error!\u001b[39;00m\n\u001b[0;32m     10\u001b[0m car1 \u001b[38;5;241m=\u001b[39m Car(\u001b[38;5;124m\"\u001b[39m\u001b[38;5;124mTesla\u001b[39m\u001b[38;5;124m\"\u001b[39m, \u001b[38;5;124m\"\u001b[39m\u001b[38;5;124mred\u001b[39m\u001b[38;5;124m\"\u001b[39m)\n\u001b[1;32m---> 11\u001b[0m \u001b[43mcar1\u001b[49m\u001b[38;5;241;43m.\u001b[39;49m\u001b[43mshow\u001b[49m\u001b[43m(\u001b[49m\u001b[43m)\u001b[49m\n",
      "Cell \u001b[1;32mIn[4], line 8\u001b[0m, in \u001b[0;36mCar.show\u001b[1;34m(self)\u001b[0m\n\u001b[0;32m      7\u001b[0m \u001b[38;5;28;01mdef\u001b[39;00m \u001b[38;5;21mshow\u001b[39m(\u001b[38;5;28mself\u001b[39m):\n\u001b[1;32m----> 8\u001b[0m     \u001b[38;5;28mprint\u001b[39m(\u001b[38;5;124mf\u001b[39m\u001b[38;5;124m\"\u001b[39m\u001b[38;5;124mThe car is a \u001b[39m\u001b[38;5;132;01m{\u001b[39;00m\u001b[43mbrand\u001b[49m\u001b[38;5;132;01m}\u001b[39;00m\u001b[38;5;124m in \u001b[39m\u001b[38;5;132;01m{\u001b[39;00mcolor\u001b[38;5;132;01m}\u001b[39;00m\u001b[38;5;124m.\u001b[39m\u001b[38;5;124m\"\u001b[39m)\n",
      "\u001b[1;31mNameError\u001b[0m: name 'brand' is not defined"
     ]
    }
   ],
   "source": [
    "class Car:\n",
    "    def __init__(self, brand, color):\n",
    "        brand = brand  # Just a local variable\n",
    "        color = color  # Just a local variable\n",
    "\n",
    "    def show(self):\n",
    "        print(f\"The car is a {brand} in {color}.\")  # This will throw an error!\n",
    "\n",
    "car1 = Car(\"Tesla\", \"red\")\n",
    "car1.show()\n"
   ]
  },
  {
   "cell_type": "code",
   "execution_count": 11,
   "metadata": {},
   "outputs": [
    {
     "name": "stdout",
     "output_type": "stream",
     "text": [
      "My Name is John  Snow and I am a Bastard \n"
     ]
    }
   ],
   "source": [
    "class car:\n",
    "    def __init__(self, fname,lname,title):\n",
    "        self.fname = fname\n",
    "        self.lname = lname\n",
    "        self.title = title\n",
    "    \n",
    "    def printcar(self):\n",
    "        print(f'My Name is {self.fname}  {self.lname} and I am a {self.title}')\n",
    "\n",
    "a1 = car('John','Snow','Bastard ')\n",
    "a1.printcar()\n",
    "\n",
    "\n",
    "        "
   ]
  },
  {
   "cell_type": "code",
   "execution_count": 12,
   "metadata": {},
   "outputs": [
    {
     "name": "stdout",
     "output_type": "stream",
     "text": [
      "Hello Alice! I'm the __init__ method setting things up.\n",
      "Hi Alice, great to see you!\n"
     ]
    }
   ],
   "source": [
    "class Greeting:\n",
    "    def __init__(self, name):  # This is the setup method (constructor)\n",
    "        self.name = name  # Initialize the name attribute for the object\n",
    "        print(f\"Hello {name}! I'm the __init__ method setting things up.\")\n",
    "\n",
    "    def say_hello(self):\n",
    "        print(f\"Hi {self.name}, great to see you!\")\n",
    "\n",
    "# Create an object of the class\n",
    "person1 = Greeting(\"Alice\")  # __init__() is automatically called here\n",
    "person1.say_hello()\n"
   ]
  },
  {
   "cell_type": "code",
   "execution_count": 13,
   "metadata": {},
   "outputs": [
    {
     "name": "stdout",
     "output_type": "stream",
     "text": [
      "Hello! My name is John Snow, and I am King of the North\n"
     ]
    }
   ],
   "source": [
    "class Car:\n",
    "    def print_car(self):\n",
    "        print(f'Hello! My name is {self.fname} {self.lname}, and I am {self.title}')\n",
    "\n",
    "a1 = Car()\n",
    "a1.fname = 'John'\n",
    "a1.lname = 'Snow'\n",
    "a1.title = 'King of the North'\n",
    "a1.print_car()\n"
   ]
  },
  {
   "cell_type": "code",
   "execution_count": 15,
   "metadata": {},
   "outputs": [
    {
     "name": "stdout",
     "output_type": "stream",
     "text": [
      "My name is Alice and I am 30 years old.\n"
     ]
    }
   ],
   "source": [
    "name = \"Alice\"  \n",
    "age = 30  \n",
    "message = \"My name is {} and I am {} years old.\".format(name, age)\n",
    "print(message)"
   ]
  },
  {
   "cell_type": "code",
   "execution_count": 8,
   "metadata": {},
   "outputs": [
    {
     "name": "stdout",
     "output_type": "stream",
     "text": [
      "Hello! My name is Prathamesh Talele and I am 22 year old\n",
      "I Want to work as a Data Analyst. \n",
      "I have my Qualification in Computer Science in year 2024.\n"
     ]
    }
   ],
   "source": [
    "class Details:\n",
    "    def PersonalDetails(self, fname, lname,age):\n",
    "        self.fname = fname\n",
    "        self.lname = lname\n",
    "        self.age = age\n",
    "\n",
    "    def Role(self, role, qualification, year):\n",
    "        self.role = role \n",
    "        self.qualification  = qualification\n",
    "        self.year = year\n",
    "\n",
    "    def ShowDetails(self):\n",
    "        print(f\"Hello! My name is {self.fname} {self.lname} and I am {self.age} year old\")\n",
    "        print('I Want to work as a {}. \\nI have my Qualification in {} in year {}.'.format(self.role, self.qualification, self.year))\n",
    "\n",
    "value1 = Details()\n",
    "value1.PersonalDetails('Prathamesh','Talele',22)\n",
    "value1.Role('Data Analyst', 'Computer Science', 2024)\n",
    "value1.ShowDetails()\n",
    "\n"
   ]
  }
 ],
 "metadata": {
  "kernelspec": {
   "display_name": "Python 3",
   "language": "python",
   "name": "python3"
  },
  "language_info": {
   "codemirror_mode": {
    "name": "ipython",
    "version": 3
   },
   "file_extension": ".py",
   "mimetype": "text/x-python",
   "name": "python",
   "nbconvert_exporter": "python",
   "pygments_lexer": "ipython3",
   "version": "3.12.4"
  }
 },
 "nbformat": 4,
 "nbformat_minor": 2
}
