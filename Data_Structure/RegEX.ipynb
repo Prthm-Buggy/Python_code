{
 "cells": [
  {
   "cell_type": "code",
   "execution_count": null,
   "metadata": {},
   "outputs": [],
   "source": [
    "### 1. Basics of Regular Expressions\n",
    "#      .   Matches any character except a newline.\n",
    "#      ^   Matches the start of a string.\n",
    "#      $   Matches the end of a string.\n",
    "#      *   Matches 0 or more repetitions of the preceding pattern.\n",
    "#      +   Matches 1 or more repetitions of the preceding pattern.\n",
    "#      ?   Matches 0 or 1 repetition of the preceding pattern.\n",
    "#      []  Matches any one of the characters inside the brackets.\n",
    "#      |   Matches either the pattern before or the pattern after the `|`.\n",
    "#      \\   Escapes a special character."
   ]
  },
  {
   "cell_type": "code",
   "execution_count": 12,
   "metadata": {},
   "outputs": [
    {
     "name": "stdout",
     "output_type": "stream",
     "text": [
      "<re.Match object; span=(0, 1), match='p'>\n"
     ]
    }
   ],
   "source": [
    "import re\n",
    "pattern  = 'prathmesh'\n",
    "result = re.match('p', pattern)\n",
    "print(result if result else 'No match')"
   ]
  },
  {
   "cell_type": "code",
   "execution_count": null,
   "metadata": {},
   "outputs": [],
   "source": [
    "#  Common Functions in `re` Module\n",
    "# - `re.search()`: Searches for the pattern in the text and returns a match object if found.\n",
    "# - `re.match()`: Checks for a match only at the beginning of the string.\n",
    "# - `re.findall()`: Returns a list of all matches in the string.\n",
    "# - `re.sub()`: Replaces matches with a specified string.\n",
    "# - `re.split()`: Splits the text by the occurrences of the pattern."
   ]
  },
  {
   "cell_type": "code",
   "execution_count": null,
   "metadata": {},
   "outputs": [],
   "source": []
  },
  {
   "cell_type": "code",
   "execution_count": null,
   "metadata": {},
   "outputs": [],
   "source": []
  },
  {
   "cell_type": "code",
   "execution_count": null,
   "metadata": {},
   "outputs": [],
   "source": []
  }
 ],
 "metadata": {
  "kernelspec": {
   "display_name": "Python 3",
   "language": "python",
   "name": "python3"
  },
  "language_info": {
   "codemirror_mode": {
    "name": "ipython",
    "version": 3
   },
   "file_extension": ".py",
   "mimetype": "text/x-python",
   "name": "python",
   "nbconvert_exporter": "python",
   "pygments_lexer": "ipython3",
   "version": "3.12.4"
  }
 },
 "nbformat": 4,
 "nbformat_minor": 2
}
