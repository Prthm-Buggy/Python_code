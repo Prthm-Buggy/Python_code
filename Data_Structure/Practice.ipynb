{
 "cells": [
  {
   "cell_type": "code",
   "execution_count": null,
   "metadata": {},
   "outputs": [],
   "source": [
    "from collections import Counter\n",
    "fruits = ['apple','bananan','graphs','watermealon']\n",
    "print(Counter(fruits))\n",
    "\n",
    "for f in fruits:\n",
    "    print(Counter(f))"
   ]
  },
  {
   "cell_type": "code",
   "execution_count": 13,
   "metadata": {},
   "outputs": [
    {
     "data": {
      "text/plain": [
       "[4, 16, 36, 64]"
      ]
     },
     "execution_count": 13,
     "metadata": {},
     "output_type": "execute_result"
    }
   ],
   "source": [
    "mylist = [2,4,6,8]\n",
    "squarelist = [x * x for x in mylist]\n",
    "squarelist"
   ]
  },
  {
   "cell_type": "code",
   "execution_count": 16,
   "metadata": {},
   "outputs": [
    {
     "name": "stdout",
     "output_type": "stream",
     "text": [
      "Number: 1, Character: a\n",
      "Number: 2, Character: b\n",
      "Number: 3, Character: c\n"
     ]
    }
   ],
   "source": [
    "list1 = [1, 2, 3,4]\n",
    "list2 = ['a', 'b', 'c']\n",
    "\n",
    "for num, char in zip(list1, list2):\n",
    "    print(f\"Number: {num}, Character: {char}\")"
   ]
  },
  {
   "cell_type": "code",
   "execution_count": 28,
   "metadata": {},
   "outputs": [
    {
     "name": "stdout",
     "output_type": "stream",
     "text": [
      "1\n",
      "2\n",
      "3\n",
      "4\n"
     ]
    }
   ],
   "source": [
    "my_list = [1, 2, 3, 4]\n",
    "\n",
    "it = iter(my_list)\n",
    "for i in my_list:\n",
    "    print(next(it))"
   ]
  },
  {
   "cell_type": "code",
   "execution_count": 29,
   "metadata": {},
   "outputs": [
    {
     "name": "stdout",
     "output_type": "stream",
     "text": [
      "Function is running...\n",
      "Hello!\n"
     ]
    }
   ],
   "source": [
    "def logger(func):\n",
    "    def wrapper():\n",
    "        print(\"Function is running...\")\n",
    "        func()\n",
    "    return wrapper\n",
    "\n",
    "@logger\n",
    "def greet():\n",
    "    print(\"Hello!\")\n",
    "\n",
    "greet()\n"
   ]
  },
  {
   "cell_type": "code",
   "execution_count": 15,
   "metadata": {},
   "outputs": [
    {
     "name": "stdout",
     "output_type": "stream",
     "text": [
      "[[1, 2, 3, 4, 5, 6, 7, 8, 9, 10], [2, 4, 6, 8, 10, 12, 14, 16, 18, 20], [3, 6, 9, 12, 15, 18, 21, 24, 27, 30], [4, 8, 12, 16, 20, 24, 28, 32, 36, 40], [5, 10, 15, 20, 25, 30, 35, 40, 45, 50], [6, 12, 18, 24, 30, 36, 42, 48, 54, 60], [7, 14, 21, 28, 35, 42, 49, 56, 63, 70], [8, 16, 24, 32, 40, 48, 56, 64, 72, 80], [9, 18, 27, 36, 45, 54, 63, 72, 81, 90], [10, 20, 30, 40, 50, 60, 70, 80, 90, 100]]\n"
     ]
    }
   ],
   "source": [
    "table = [1, 2, 3, 4, 5, 6, 7, 8, 9, 10]  \n",
    "\n",
    "def create_table(n):  \n",
    "    return [n * i for i in table]  # Generate multiplication results  \n",
    "\n",
    "first_table = list(map(create_table, table))  # Apply create_table to each number in 'table'  \n",
    "print(first_table)"
   ]
  },
  {
   "cell_type": "code",
   "execution_count": 20,
   "metadata": {},
   "outputs": [
    {
     "name": "stdout",
     "output_type": "stream",
     "text": [
      "-1\n",
      "2\n",
      "3\n",
      "-4\n",
      "-5\n",
      "6\n",
      "7\n",
      "-8\n",
      "-9\n",
      "-10\n"
     ]
    }
   ],
   "source": [
    "x = [1, -2, -3, 4, 5, -6, -7, 8, 9, 10]\n",
    "for i in x:\n",
    "    print(-i)"
   ]
  },
  {
   "cell_type": "code",
   "execution_count": 58,
   "metadata": {},
   "outputs": [
    {
     "name": "stdout",
     "output_type": "stream",
     "text": [
      "paqbrc\n"
     ]
    }
   ],
   "source": [
    "merged_string = ['a', 'p', 'b', 'q', 'c', 'r']\n",
    "for i in range(1, len(merged_string), 2):\n",
    "    merged_string[i - 1], merged_string[i] = merged_string[i], merged_string[i - 1]\n",
    "result = ''.join(merged_string)\n",
    "print(result) "
   ]
  },
  {
   "cell_type": "code",
   "execution_count": 55,
   "metadata": {},
   "outputs": [
    {
     "name": "stdout",
     "output_type": "stream",
     "text": [
      "apbqcr\n"
     ]
    }
   ],
   "source": [
    "# 1768. Merge Strings Alternately\n",
    "# https://leetcode.com/problems/merge-strings-alternately/\n",
    "def merge_strings_alternately(s1, s2):\n",
    "    merged_string = []\n",
    "    len1, len2 = len(s1), len(s2)\n",
    "    max_len = max(len1, len2)\n",
    "    \n",
    "    for i in range(max_len):\n",
    "        merged_string.append(s1[i]) if i < len1 else None\n",
    "        merged_string.append(s2[i]) if i < len2 else None\n",
    "    \n",
    "    return ''.join(merged_string)\n",
    "\n",
    "s1 = \"abc\"\n",
    "s2 = \"pqr\"\n",
    "result = merge_strings_alternately(s1, s2)\n",
    "print(result)  # Output: \"apbqcr\"\n"
   ]
  },
  {
   "cell_type": "code",
   "execution_count": 59,
   "metadata": {},
   "outputs": [],
   "source": [
    "from itertools import zip_longest\n",
    "class Solution:\n",
    "    def mergeAlternately(self, word1: str, word2: str) -> str:\n",
    "        merged_string = []\n",
    "        for char1, char2 in zip_longest(word1, word2, fillvalue=\"\"): \n",
    "            merged_string.append(char1)\n",
    "            merged_string.append(char2)\n",
    "        return \"\".join(merged_string)"
   ]
  },
  {
   "cell_type": "code",
   "execution_count": 84,
   "metadata": {},
   "outputs": [
    {
     "name": "stdout",
     "output_type": "stream",
     "text": [
      "[('John', 20, 'M'), ('Peter', 30, 'M'), ('Sally', 25, 'F')]\n",
      "-----------------------------------------------------------\n",
      "[('John', 'Peter', 'Sally'), (20, 30, 25), ('M', 'M', 'F')]\n",
      "-----------------------------------------------------------\n",
      "My Nmme is :John I am age 20,  sex M\n",
      "My Nmme is :Peter I am age 30,  sex M\n",
      "My Nmme is :Sally I am age 25,  sex F\n",
      "-----------------------------------------------------------\n"
     ]
    }
   ],
   "source": [
    "name = ['John', 'Peter', 'Sally']\n",
    "age = [20, 30, 25]\n",
    "sex = ['M', 'M', 'F']\n",
    "# Zip the lists\n",
    "zip_details  = list(zip(name,age,sex))\n",
    "print(zip_details)\n",
    "print('-----------------------------------------------------------')\n",
    "# Unzip the zipped list\n",
    "print(list(zip(*zip_details)))\n",
    "print('-----------------------------------------------------------')\n",
    "#loop through the zipped list\n",
    "for name, age, sex in zip_details:\n",
    "    print(f'My Nmme is :{name} I am age {age},  sex {sex}')\n",
    "print('-----------------------------------------------------------')"
   ]
  },
  {
   "cell_type": "code",
   "execution_count": 1,
   "metadata": {},
   "outputs": [
    {
     "name": "stdout",
     "output_type": "stream",
     "text": [
      "True\n",
      "False\n"
     ]
    }
   ],
   "source": [
    "import re  \n",
    "\n",
    "class Solution:  \n",
    "    def isSubsequence(self, s: str, t: str) -> bool:  \n",
    "\n",
    "        if not s:  \n",
    "            return True  \n",
    "\n",
    "        pattern = \".*\".join(s) \n",
    "        \n",
    "        match = re.search(pattern, t)  \n",
    "        return match is not None\n",
    "\n",
    "sol = Solution()\n",
    "\n",
    "# Test cases\n",
    "s1, t1 = \"abc\", \"ahbgdc\"\n",
    "s2, t2 = \"axc\", \"ahbgdc\"\n",
    "\n",
    "print(sol.isSubsequence(s1, t1))  \n",
    "print(sol.isSubsequence(s2, t2))  "
   ]
  }
 ],
 "metadata": {
  "kernelspec": {
   "display_name": "Python 3",
   "language": "python",
   "name": "python3"
  },
  "language_info": {
   "codemirror_mode": {
    "name": "ipython",
    "version": 3
   },
   "file_extension": ".py",
   "mimetype": "text/x-python",
   "name": "python",
   "nbconvert_exporter": "python",
   "pygments_lexer": "ipython3",
   "version": "3.12.4"
  }
 },
 "nbformat": 4,
 "nbformat_minor": 2
}
