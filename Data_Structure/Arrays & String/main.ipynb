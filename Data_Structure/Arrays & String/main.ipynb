{
 "cells": [
  {
   "cell_type": "code",
   "execution_count": 6,
   "metadata": {},
   "outputs": [
    {
     "name": "stdout",
     "output_type": "stream",
     "text": [
      "The maximum element in the list is: 91\n"
     ]
    }
   ],
   "source": [
    "#1.  Find the maximum element in an array.\n",
    "def Max_Element(nums):\n",
    "    return max(nums)\n",
    "\n",
    "nums = [45,23,19,67,74,66,88,91,56,34,23,12]\n",
    "print(f'The maximum element in the list is: {Max_Element(nums)}')\n"
   ]
  },
  {
   "cell_type": "code",
   "execution_count": 7,
   "metadata": {},
   "outputs": [
    {
     "name": "stdout",
     "output_type": "stream",
     "text": [
      "The maximum element in the list is: 12\n"
     ]
    }
   ],
   "source": [
    "# 2. Find the minimum element in an array.\n",
    "def Min_Element(nums):\n",
    "    return min(nums)\n",
    "nums = [45,23,19,67,74,66,88,91,56,34,23,12]\n",
    "print(f'The maximum element in the list is: {Min_Element(nums)}')"
   ]
  },
  {
   "cell_type": "code",
   "execution_count": 9,
   "metadata": {},
   "outputs": [
    {
     "name": "stdout",
     "output_type": "stream",
     "text": [
      "The maximum element in the list is: [12, 23, 34, 56, 91, 88, 66, 74, 67, 19, 23, 45]\n"
     ]
    }
   ],
   "source": [
    "#3. Reverse an array or string.def ReverseArray(nums):\n",
    "def ReverseArray(nums):\n",
    "    return nums[::-1]\n",
    "\n",
    "num = [45,23,19,67,74,66,88,91,56,34,23,12]\n",
    "print(f'The maximum element in the list is: {ReverseArray(num)}')"
   ]
  },
  {
   "cell_type": "code",
   "execution_count": 12,
   "metadata": {},
   "outputs": [
    {
     "name": "stdout",
     "output_type": "stream",
     "text": [
      "the sum of the elements in the list is 140\n"
     ]
    }
   ],
   "source": [
    "# 4. Find the Sum of All Elements in an Array\n",
    "def sumofelements(nums):\n",
    "    return sum(nums)\n",
    "nums = [ 1,23,22,45,5,5,5,4,4,4,22]\n",
    "print(f'the sum of the elements in the list is {sumofelements(nums)}')"
   ]
  },
  {
   "cell_type": "code",
   "execution_count": 16,
   "metadata": {},
   "outputs": [
    {
     "name": "stdout",
     "output_type": "stream",
     "text": [
      "Is the list sorted? False\n"
     ]
    }
   ],
   "source": [
    "def issorted(nums):\n",
    "    return nums == sorted(nums)\n",
    "nums = [1,2,3,4,5,6,7,8,9,10,12,11]\n",
    "print(f'Is the list sorted? {issorted(nums)}')"
   ]
  },
  {
   "cell_type": "code",
   "execution_count": 17,
   "metadata": {},
   "outputs": [
    {
     "name": "stdout",
     "output_type": "stream",
     "text": [
      "2\n"
     ]
    }
   ],
   "source": [
    "def closest_greater_than_zero(numbers):\n",
    "    positive_numbers = [num for num in numbers if num > 0]\n",
    "    if not positive_numbers:\n",
    "        return None\n",
    "    \n",
    "    closest_number = min(positive_numbers, key=lambda x: abs(x))\n",
    "    return closest_number\n",
    "\n",
    "# Example usage\n",
    "numbers = [-10, -5, 3, 7, 2, -1, 0]\n",
    "result = closest_greater_than_zero(numbers)\n",
    "print(result)  # Output: 2"
   ]
  },
  {
   "cell_type": "code",
   "execution_count": 27,
   "metadata": {},
   "outputs": [
    {
     "name": "stdout",
     "output_type": "stream",
     "text": [
      "9\n"
     ]
    }
   ],
   "source": [
    "# lambda function\n",
    "addition = lambda x,y,z : x+y+z\n",
    "print(addition(2,3,4))"
   ]
  },
  {
   "cell_type": "code",
   "execution_count": 13,
   "metadata": {},
   "outputs": [
    {
     "name": "stdout",
     "output_type": "stream",
     "text": [
      "Adding 1 + 0 = 1\n",
      "Adding 2 + 1 = 3\n",
      "Adding 3 + 3 = 6\n",
      "Adding 4 + 6 = 10\n",
      "Adding 5 + 10 = 15\n",
      "Sum: 15\n"
     ]
    }
   ],
   "source": [
    "total = 0\n",
    "\n",
    "for i in range(1, 6): \n",
    "    print(f\"Adding {i} + {total} = {i + total}\")\n",
    "    total += i  \n",
    "\n",
    "print(\"Sum:\", total)  # Output: 15 (1+2+3+4+5)\n"
   ]
  },
  {
   "cell_type": "code",
   "execution_count": 24,
   "metadata": {},
   "outputs": [
    {
     "ename": "IndentationError",
     "evalue": "expected an indented block after 'for' statement on line 1 (2991673905.py, line 2)",
     "output_type": "error",
     "traceback": [
      "\u001b[1;36m  Cell \u001b[1;32mIn[24], line 2\u001b[1;36m\u001b[0m\n\u001b[1;33m    print(sum(range(1,6)))  # Output: 15 (1+2+3+4+5)\u001b[0m\n\u001b[1;37m    ^\u001b[0m\n\u001b[1;31mIndentationError\u001b[0m\u001b[1;31m:\u001b[0m expected an indented block after 'for' statement on line 1\n"
     ]
    }
   ],
   "source": [
    "    "
   ]
  },
  {
   "cell_type": "code",
   "execution_count": 47,
   "metadata": {},
   "outputs": [
    {
     "name": "stdout",
     "output_type": "stream",
     "text": [
      "33is greather\n",
      "None\n"
     ]
    }
   ],
   "source": []
  },
  {
   "cell_type": "code",
   "execution_count": 51,
   "metadata": {},
   "outputs": [
    {
     "name": "stdout",
     "output_type": "stream",
     "text": [
      "{'strength': 80, 'intelligence': 91, 'speed': 78, 'faith': 82, 'arcane': 87}\n"
     ]
    }
   ],
   "source": [
    "thisdict = {\n",
    "\"strength\": 80,\n",
    "\"intelligence\": 91,\n",
    "\"speed\": 78,\n",
    "\"faith\": 82,\n",
    "\"arcane\": 87\n",
    "}\n",
    "print(thisdict )"
   ]
  },
  {
   "cell_type": "code",
   "execution_count": null,
   "metadata": {},
   "outputs": [
    {
     "name": "stdout",
     "output_type": "stream",
     "text": [
      "Collecting termcolor\n",
      "  Using cached termcolor-2.5.0-py3-none-any.whl.metadata (6.1 kB)\n",
      "Using cached termcolor-2.5.0-py3-none-any.whl (7.8 kB)\n",
      "Installing collected packages: termcolor\n",
      "Successfully installed termcolor-2.5.0\n"
     ]
    },
    {
     "name": "stderr",
     "output_type": "stream",
     "text": [
      "\n",
      "[notice] A new release of pip is available: 24.3.1 -> 25.0\n",
      "[notice] To update, run: python.exe -m pip install --upgrade pip\n"
     ]
    }
   ],
   "source": [
    "!pip install termcolor"
   ]
  },
  {
   "cell_type": "code",
   "execution_count": 70,
   "metadata": {},
   "outputs": [
    {
     "name": "stdout",
     "output_type": "stream",
     "text": [
      "\u001b[31mThis is RED!\u001b[0m\n",
      "\u001b[32mThis is GREEN!\u001b[0m\n"
     ]
    }
   ],
   "source": [
    "from termcolor import colored\n",
    "print(colored(\"This is RED!\", \"red\"))\n",
    "print(colored(\"This is GREEN!\", \"green\"))"
   ]
  },
  {
   "cell_type": "code",
   "execution_count": 79,
   "metadata": {},
   "outputs": [
    {
     "name": "stdout",
     "output_type": "stream",
     "text": [
      "Python is awesome!"
     ]
    }
   ],
   "source": [
    "import time\n",
    "\n",
    "text = \"Python is awesome!\"\n",
    "for char in text:\n",
    "    print(char, end='', flush=True)\n",
    "    time.sleep(0.2)  # Slow typing effect\n"
   ]
  },
  {
   "cell_type": "code",
   "execution_count": null,
   "metadata": {},
   "outputs": [],
   "source": []
  }
 ],
 "metadata": {
  "kernelspec": {
   "display_name": "Python 3",
   "language": "python",
   "name": "python3"
  },
  "language_info": {
   "codemirror_mode": {
    "name": "ipython",
    "version": 3
   },
   "file_extension": ".py",
   "mimetype": "text/x-python",
   "name": "python",
   "nbconvert_exporter": "python",
   "pygments_lexer": "ipython3",
   "version": "3.12.4"
  }
 },
 "nbformat": 4,
 "nbformat_minor": 2
}
