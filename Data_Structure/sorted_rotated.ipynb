{
 "cells": [
  {
   "cell_type": "code",
   "execution_count": 13,
   "metadata": {},
   "outputs": [
    {
     "name": "stdout",
     "output_type": "stream",
     "text": [
      "The array is sorted and rotated True\n"
     ]
    }
   ],
   "source": [
    "def sorted_rotated(nums):\n",
    "    for n in nums:\n",
    "        rotated = nums[n:]+ nums[:n]\n",
    "        if rotated == sorted(nums):\n",
    "            return f'The array is sorted and rotated {True}'\n",
    "    return False\n",
    "nums = [1,2,3]\n",
    "print(sorted_rotated(nums))"
   ]
  },
  {
   "cell_type": "code",
   "execution_count": 7,
   "metadata": {},
   "outputs": [
    {
     "name": "stdout",
     "output_type": "stream",
     "text": [
      "True\n"
     ]
    }
   ],
   "source": [
    "class Solution:\n",
    "    def check(self, nums):\n",
    "        count = 0\n",
    "        for i in range(len(nums) - 1):\n",
    "            if nums[i] > nums[i + 1]:\n",
    "                count += 1\n",
    "        if nums[-1] > nums[0]:\n",
    "            count += 1\n",
    "        return count <= 1\n",
    "\n",
    "solution = Solution()\n",
    "nums = [3, 4, 5, 1, 2]\n",
    "print(solution.check(nums)) \n"
   ]
  },
  {
   "cell_type": "code",
   "execution_count": 22,
   "metadata": {},
   "outputs": [
    {
     "name": "stdout",
     "output_type": "stream",
     "text": [
      "1\n",
      "2\n",
      "3\n",
      "4\n",
      "5\n",
      "6\n",
      "7\n",
      "8\n",
      "9\n",
      "10\n",
      "None\n"
     ]
    }
   ],
   "source": [
    "class Solution:\n",
    "    def printnumbers(self, n):\n",
    "        if n == 0:\n",
    "            return\n",
    "        self.printnumbers(n-1)\n",
    "        print(n)\n",
    "s = Solution()\n",
    "n = 10\n",
    "print(s.printnumbers(n))\n"
   ]
  },
  {
   "cell_type": "code",
   "execution_count": 26,
   "metadata": {},
   "outputs": [
    {
     "name": "stdout",
     "output_type": "stream",
     "text": [
      "Print number O-N without loop\n",
      "The value of N is --> 10\n",
      "1 2 3 4 5 6 7 8 9 10 "
     ]
    }
   ],
   "source": [
    "\n",
    "# Print numbers from 1 to n without the help of loops. \n",
    "# You only need to complete the function printNos() that takes n as a parameter and \n",
    "# prints the number from 1 to n recursively.\n",
    "class Solution:\n",
    "    def printNos(self, N):\n",
    "        if N > 0:\n",
    "            self.printNos(N - 1)\n",
    "            print(N, end=\" \")\n",
    "\n",
    "solution = Solution()\n",
    "N = 10\n",
    "print(f'Print number O-N without loop')\n",
    "print(f'The value of N is --> {N}')\n",
    "solution.printNos(N)\n"
   ]
  },
  {
   "cell_type": "code",
   "execution_count": 28,
   "metadata": {},
   "outputs": [
    {
     "name": "stdout",
     "output_type": "stream",
     "text": [
      "True\n"
     ]
    }
   ],
   "source": [
    "class Solution:\n",
    "    def check(self, nums):\n",
    "        n = len(nums)\n",
    "        for i in range(n):\n",
    "            rotated = nums[i:] + nums[:i]\n",
    "            if rotated == sorted(nums):\n",
    "                return True\n",
    "        return False\n",
    "\n",
    "solution = Solution()\n",
    "nums = [3, 4, 5, 1, 2]\n",
    "print(solution.check(nums))  # Output: True\n"
   ]
  },
  {
   "cell_type": "code",
   "execution_count": 53,
   "metadata": {},
   "outputs": [
    {
     "name": "stdout",
     "output_type": "stream",
     "text": [
      "120\n"
     ]
    }
   ],
   "source": [
    "def countdown(numbers):\n",
    "    if numbers == 0 : return 'stop'\n",
    "    else : print(numbers) \n",
    "    return countdown(numbers -1)\n",
    "\n",
    "countdown(10)"
   ]
  },
  {
   "cell_type": "code",
   "execution_count": 9,
   "metadata": {},
   "outputs": [
    {
     "name": "stdout",
     "output_type": "stream",
     "text": [
      "225\n"
     ]
    }
   ],
   "source": [
    "class Solution:\n",
    "    def sumOfSeries(self, n):\n",
    "        Sum = (n * (n + 1)) // 2\n",
    "        return Sum * Sum\n",
    "\n",
    "sol = Solution()\n",
    "print(sol.sumOfSeries(5))\n"
   ]
  },
  {
   "cell_type": "code",
   "execution_count": 1,
   "metadata": {},
   "outputs": [
    {
     "name": "stdout",
     "output_type": "stream",
     "text": [
      "[1, 2]\n"
     ]
    }
   ],
   "source": [
    "class Solution:\n",
    "    def factorialNumbers(self, n):\n",
    "        result = []\n",
    "        factorial = 1\n",
    "        i = 1\n",
    "        while factorial <= n:\n",
    "            result.append(factorial)\n",
    "            i += 1\n",
    "            factorial *= i\n",
    "        return result\n",
    "ff = Solution()\n",
    "print(ff.factorialNumbers(5))"
   ]
  },
  {
   "cell_type": "code",
   "execution_count": null,
   "metadata": {},
   "outputs": [],
   "source": []
  }
 ],
 "metadata": {
  "kernelspec": {
   "display_name": "Python 3",
   "language": "python",
   "name": "python3"
  },
  "language_info": {
   "codemirror_mode": {
    "name": "ipython",
    "version": 3
   },
   "file_extension": ".py",
   "mimetype": "text/x-python",
   "name": "python",
   "nbconvert_exporter": "python",
   "pygments_lexer": "ipython3",
   "version": "3.12.4"
  }
 },
 "nbformat": 4,
 "nbformat_minor": 2
}
