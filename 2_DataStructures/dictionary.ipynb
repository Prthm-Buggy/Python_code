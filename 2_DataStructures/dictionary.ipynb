{
 "cells": [
  {
   "cell_type": "code",
   "execution_count": null,
   "metadata": {},
   "outputs": [],
   "source": [
    "# Dictionaries are used to store data values in key:value pairs.\n",
    "# A dictionary is a collection which is ordered*, changeable and do not allow duplicates."
   ]
  },
  {
   "cell_type": "code",
   "execution_count": 1,
   "metadata": {},
   "outputs": [
    {
     "name": "stdout",
     "output_type": "stream",
     "text": [
      "{'brand': 'Tesla', 'model': 'Model S', 'year': 2020}\n",
      "Tesla\n",
      "{'brand': 'Tesla', 'model': 'Model S', 'year': 2020, 'color': 'red'}\n",
      "{'brand': 'Tesla', 'model': 'Model S', 'year': 2022, 'color': 'red'}\n",
      "{'brand': 'Tesla', 'year': 2022, 'color': 'red'}\n"
     ]
    }
   ],
   "source": [
    "car = {\"brand\": \"Tesla\", \"model\": \"Model S\", \"year\": 2020}\n",
    "print(car)\n",
    "print(car[\"brand\"]) \n",
    "car[\"color\"] = \"red\"\n",
    "print(car)  \n",
    "car[\"year\"] = 2022\n",
    "print(car) \n",
    "del car[\"model\"]\n",
    "print(car) \n"
   ]
  }
 ],
 "metadata": {
  "kernelspec": {
   "display_name": "Python 3",
   "language": "python",
   "name": "python3"
  },
  "language_info": {
   "codemirror_mode": {
    "name": "ipython",
    "version": 3
   },
   "file_extension": ".py",
   "mimetype": "text/x-python",
   "name": "python",
   "nbconvert_exporter": "python",
   "pygments_lexer": "ipython3",
   "version": "3.12.4"
  }
 },
 "nbformat": 4,
 "nbformat_minor": 2
}
