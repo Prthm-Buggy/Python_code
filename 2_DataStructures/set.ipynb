{
 "cells": [
  {
   "cell_type": "code",
   "execution_count": 5,
   "metadata": {},
   "outputs": [
    {
     "name": "stdout",
     "output_type": "stream",
     "text": [
      "{1, 2, 3, 4}\n"
     ]
    }
   ],
   "source": [
    "# Sets are used to store multiple items in a single variable.\n",
    "# A set is a collection which is unordered, unchangeable*, and unindexed.\n",
    "myset = { 1,2,3,4}\n",
    "print(myset)\n"
   ]
  },
  {
   "cell_type": "code",
   "execution_count": 12,
   "metadata": {},
   "outputs": [
    {
     "data": {
      "text/plain": [
       "{1, 2, 3, 4, 5, 'Apple', 'Banana', 'Graphs', 'Orange', 'Water Mealon'}"
      ]
     },
     "execution_count": 12,
     "metadata": {},
     "output_type": "execute_result"
    }
   ],
   "source": [
    "# o add one item to a set use the add() method.\n",
    "fruits = {'Orange','Graphs','Banana','Apple'}\n",
    "fruits.add('Water Mealon')\n",
    "fruits\n",
    "# To add items from another set into the current set, use the update() method.\n",
    "myset.update(fruits)\n",
    "myset\n"
   ]
  },
  {
   "cell_type": "code",
   "execution_count": 14,
   "metadata": {},
   "outputs": [
    {
     "data": {
      "text/plain": [
       "{'Banana', 'Graphs', 'Orange'}"
      ]
     },
     "execution_count": 14,
     "metadata": {},
     "output_type": "execute_result"
    }
   ],
   "source": [
    "# To remove an item in a set, use the remove(), or the discard() method.\n",
    "fruits = {'Orange','Graphs','Banana','Apple'}\n",
    "fruits.remove('Apple') # OR discard() \n",
    "fruits"
   ]
  },
  {
   "cell_type": "code",
   "execution_count": 7,
   "metadata": {},
   "outputs": [
    {
     "name": "stdout",
     "output_type": "stream",
     "text": [
      "Added: Aston martin\n",
      "Added: Ferrari\n",
      "Added: Mini\n",
      "Added: Porsche\n",
      "Added: Tesla\n",
      "Final set: {'Aston martin', 'Ferrari', 'Porsche', 'Mini', 'Tesla'}\n"
     ]
    }
   ],
   "source": [
    "def myset(values):\n",
    "    newvalues = set()\n",
    "    for i in values:\n",
    "        newvalues.add(i) \n",
    "        print(f\"Added: {i}\") \n",
    "    print(\"Final set:\", newvalues)\n",
    "\n",
    "v1 = {'Aston martin', 'Ferrari', 'Porsche', 'Mini', 'Tesla'}\n",
    "myset(v1)\n"
   ]
  },
  {
   "cell_type": "code",
   "execution_count": null,
   "metadata": {},
   "outputs": [],
   "source": [
    "# Join Sets\n",
    "# There are several ways to join two or more sets in Python.\n",
    "# The union() and update() methods joins all items from both sets.\n",
    "# The intersection() method keeps ONLY the duplicates.\n",
    "# The difference() method keeps the items from the first set that are not in the other set(s).\n",
    "# # The symmetric_difference() method keeps all items EXCEPT the duplicates."
   ]
  },
  {
   "cell_type": "code",
   "execution_count": 26,
   "metadata": {},
   "outputs": [
    {
     "name": "stdout",
     "output_type": "stream",
     "text": [
      "Untion of set1 and set2  is --> {1, 2, 3, 4, 5}\n",
      "Intersection of set1 and set2 is --> {1}\n",
      "Difference of set1 and set2 is --> {2, 3}\n",
      "is there all values of set1 in set3 --> True\n"
     ]
    }
   ],
   "source": [
    "set1 = { 1,2,3}\n",
    "set2 = {1,4,5}\n",
    "set3 = { 1,2,3,4,5,6}\n",
    "unionset = set1.union(set2)\n",
    "print(f'Untion of set1 and set2  is --> {unionset}')\n",
    "intersectset = set1.intersection(set2)\n",
    "print(f'Intersection of set1 and set2 is --> {intersectset}')\n",
    "setdiff = set1.difference(set2)\n",
    "print(f'Difference of set1 and set2 is --> {setdiff}')\n",
    "subset = set1.issubset(set3) #Ture if all present else False\n",
    "print(f'is there all values of set1 in set3 --> {subset}')"
   ]
  }
 ],
 "metadata": {
  "kernelspec": {
   "display_name": "Python 3",
   "language": "python",
   "name": "python3"
  },
  "language_info": {
   "codemirror_mode": {
    "name": "ipython",
    "version": 3
   },
   "file_extension": ".py",
   "mimetype": "text/x-python",
   "name": "python",
   "nbconvert_exporter": "python",
   "pygments_lexer": "ipython3",
   "version": "3.12.4"
  }
 },
 "nbformat": 4,
 "nbformat_minor": 2
}
