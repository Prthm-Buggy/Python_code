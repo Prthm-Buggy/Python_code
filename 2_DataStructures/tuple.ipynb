{
 "cells": [
  {
   "cell_type": "code",
   "execution_count": null,
   "metadata": {},
   "outputs": [],
   "source": [
    "# Tuple\n",
    "# Tuples are used to store multiple items in a single variable.\n",
    "# A tuple is a collection which is ordered and unchangeable.\n",
    "# Tuples are written with round brackets."
   ]
  },
  {
   "cell_type": "code",
   "execution_count": 3,
   "metadata": {},
   "outputs": [
    {
     "name": "stdout",
     "output_type": "stream",
     "text": [
      "('apple', 'banana', 'cherry', 'apple', 'cherry')\n"
     ]
    }
   ],
   "source": [
    "thistuple = (\"apple\", \"banana\", \"cherry\", \"apple\", \"cherry\")\n",
    "print(thistuple)"
   ]
  },
  {
   "cell_type": "code",
   "execution_count": null,
   "metadata": {},
   "outputs": [],
   "source": [
    "# Feature\t           List\t        Tuple\t  Dictionary\t     Set\n",
    "# Ordered\t           ✅ Yes\t  ✅ Yes \t❌ Unordered    ❌ No\n",
    "# Mutable\t           ✅ Yes\t  ❌ No\t    ✅ Yes\t       ✅ Yes\n",
    "# Duplicates Allowed   ✅ Yes\t  ✅ Yes\t    ❌ No ✅ Yes    ❌ No\n",
    "# Access by Index\t   ✅ Yes\t  ✅ Yes\t    ❌ No       \t   ❌ No\n"
   ]
  },
  {
   "cell_type": "code",
   "execution_count": null,
   "metadata": {},
   "outputs": [],
   "source": []
  }
 ],
 "metadata": {
  "kernelspec": {
   "display_name": "Python 3",
   "language": "python",
   "name": "python3"
  },
  "language_info": {
   "codemirror_mode": {
    "name": "ipython",
    "version": 3
   },
   "file_extension": ".py",
   "mimetype": "text/x-python",
   "name": "python",
   "nbconvert_exporter": "python",
   "pygments_lexer": "ipython3",
   "version": "3.12.4"
  }
 },
 "nbformat": 4,
 "nbformat_minor": 2
}
