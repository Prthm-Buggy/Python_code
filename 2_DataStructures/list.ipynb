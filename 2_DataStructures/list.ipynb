{
 "cells": [
  {
   "cell_type": "code",
   "execution_count": 5,
   "metadata": {},
   "outputs": [
    {
     "name": "stdout",
     "output_type": "stream",
     "text": [
      "['Lamborgini', 'BMW', 'Audi']\n"
     ]
    }
   ],
   "source": [
    "# List\n",
    "# Lists are used to store multiple items in a single variable.\n",
    "# Lists are created using square brackets:\n",
    "cars = ['Lamborgini', 'BMW', 'Audi']\n",
    "print(cars)"
   ]
  },
  {
   "cell_type": "code",
   "execution_count": 22,
   "metadata": {},
   "outputs": [
    {
     "name": "stdout",
     "output_type": "stream",
     "text": [
      "['H', 'e', 'l', 'l', 'o']\n"
     ]
    }
   ],
   "source": [
    "# Use list() Method: When you need to convert another iterable (like a tuple or a string)\n",
    "#  into a list or when you want to create an empty list explicitly.\n",
    "mystring = 'Hello'\n",
    "print(list(mystring))"
   ]
  },
  {
   "cell_type": "code",
   "execution_count": 18,
   "metadata": {},
   "outputs": [
    {
     "name": "stdout",
     "output_type": "stream",
     "text": [
      "5\n"
     ]
    }
   ],
   "source": [
    "# List Items\n",
    "# List items are ordered, changeable, and allow duplicate values.\n",
    "# List items are indexed, the first item has index [0], the second item has index [1] etc.\n",
    "fruits = ['Apple','Banana','Apple','Carrot','Dragonfruit']\n",
    "fruits[1] #accessing fruits with their index number \n",
    "fruits[1:3] #slicing furits in range\n",
    "print(len(fruits)) #len of the fruits list"
   ]
  },
  {
   "cell_type": "code",
   "execution_count": 21,
   "metadata": {},
   "outputs": [
    {
     "data": {
      "text/plain": [
       "['string', 2, True, 5.2]"
      ]
     },
     "execution_count": 21,
     "metadata": {},
     "output_type": "execute_result"
    }
   ],
   "source": [
    "# A list can contain different data types:\n",
    "# A list with strings, integers and boolean values:\n",
    "list1 = ['string',2 , True,5.2]\n",
    "list1"
   ]
  },
  {
   "cell_type": "code",
   "execution_count": 53,
   "metadata": {},
   "outputs": [
    {
     "name": "stdout",
     "output_type": "stream",
     "text": [
      "['2', '4', '6', '8', '10']\n",
      "['10', '9', '8', '7', '6', '5', '4', '3', '2', '1', '0']\n"
     ]
    }
   ],
   "source": [
    "thislist = [\"apple\", \"banana\", \"cherry\", \"orange\", \"kiwi\", \"melon\", \"mango\"]\n",
    "thislist2 = ['0','1','2','3','4','5','6','7','8','9','10']\n",
    "# list slicing (start : Stop : step)\n",
    "print(thislist2[2:11:2])\n",
    "print(thislist2[::-1]) #reverse the list"
   ]
  },
  {
   "cell_type": "code",
   "execution_count": 60,
   "metadata": {},
   "outputs": [
    {
     "name": "stdout",
     "output_type": "stream",
     "text": [
      "['DgFruit', 'apple', 'opple', 'opple', 'banana', 'cherry', 'orange', 'kiwi', 'melon', 'mango', 'graphs', 'graphs', 'graphs', 'graphs', 'graphs', 'graphs', 'graphs']\n"
     ]
    }
   ],
   "source": [
    "# To add an item to the end of the list, use the append() method:\n",
    "\n",
    "thislist.append('graphs')\n",
    "print(thislist)\n",
    "\n",
    "# To insert a list item at a specified index, use the insert() method.\n",
    "# The insert() method inserts an item at the specified index:\n",
    "\n",
    "thislist.insert(2,'DgFruit') # at specific location"
   ]
  },
  {
   "cell_type": "code",
   "execution_count": 62,
   "metadata": {},
   "outputs": [
    {
     "name": "stdout",
     "output_type": "stream",
     "text": [
      "['DgFruit', 'apple', 'DgFruit', 'opple', 'opple', 'banana', 'cherry', 'orange', 'kiwi', 'melon', 'mango', 'graphs', 'graphs', 'graphs', 'graphs', 'graphs', 'graphs', 'graphs', '0', '1', '2', '3', '4', '5', '6', '7', '8', '9', '10', '0', '1', '2', '3', '4', '5', '6', '7', '8', '9', '10']\n"
     ]
    }
   ],
   "source": [
    "# To append elements from another list to the current list, use the extend() method.\n",
    "thislist.extend(thislist2) #combine 2 list together\n",
    "print(thislist)"
   ]
  },
  {
   "cell_type": "code",
   "execution_count": 68,
   "metadata": {},
   "outputs": [
    {
     "name": "stdout",
     "output_type": "stream",
     "text": [
      "<built-in method reverse of list object at 0x000001BFC7C9DF80>\n"
     ]
    }
   ],
   "source": [
    "# The remove() method removes the specified item.\n",
    "# thislist.append('apple')\n",
    "thislist.remove('apple')\n",
    "# If there are more than one item with the specified value, \n",
    "# the remove() method removes the first occurrence:"
   ]
  },
  {
   "cell_type": "code",
   "execution_count": 71,
   "metadata": {},
   "outputs": [
    {
     "data": {
      "text/plain": [
       "['Lamborgini', 'BMW']"
      ]
     },
     "execution_count": 71,
     "metadata": {},
     "output_type": "execute_result"
    }
   ],
   "source": [
    "# The pop() method removes the specified index.\n",
    "cars = ['Lamborgini', 'BMW', 'Audi']\n",
    "cars.pop(2)\n",
    "# If you do not specify the index, the pop() method removes the last item.\n",
    "cars"
   ]
  },
  {
   "cell_type": "code",
   "execution_count": 80,
   "metadata": {},
   "outputs": [
    {
     "data": {
      "text/plain": [
       "['Lamborgini', 'Audi']"
      ]
     },
     "execution_count": 80,
     "metadata": {},
     "output_type": "execute_result"
    }
   ],
   "source": [
    "# The del keyword also removes the specified index:\n",
    "cars = ['Lamborgini', 'BMW', 'Audi']\n",
    "del cars[1]\n",
    "cars\n",
    "# The del keyword can also delete the list completely.\n",
    "# del cars"
   ]
  },
  {
   "cell_type": "code",
   "execution_count": 82,
   "metadata": {},
   "outputs": [
    {
     "data": {
      "text/plain": [
       "[]"
      ]
     },
     "execution_count": 82,
     "metadata": {},
     "output_type": "execute_result"
    }
   ],
   "source": [
    "# The clear() method empties the list.\n",
    "# # The list still remains, but it has no content.\n",
    "cars = ['Lamborgini', 'BMW', 'Audi']\n",
    "cars.clear()\n",
    "cars"
   ]
  },
  {
   "cell_type": "code",
   "execution_count": 95,
   "metadata": {},
   "outputs": [
    {
     "name": "stdout",
     "output_type": "stream",
     "text": [
      "Tesla\n",
      "\n",
      "There is no such car Lamborgini\n",
      "There is no such car BMW\n",
      "There is no such car Audi\n",
      "There is no such car Aston martin\n",
      "There is no such car Ferrari\n",
      "There is no such car Porsche\n",
      "There is no such car Mini\n",
      "Yes the car is in car_names Tesla\n"
     ]
    }
   ],
   "source": [
    "car_names= ['Lamborgini', 'BMW', 'Audi','Aston martin','Ferrari','Porsche','Mini','Tesla']\n",
    "for car in car_names:\n",
    "    if car == 'Tesla':\n",
    "        print(car)\n",
    "print()\n",
    "car_names= ['Lamborgini', 'BMW', 'Audi','Aston martin','Ferrari','Porsche','Mini','Tesla']\n",
    "for car in car_names:\n",
    "    if car == 'Tesla':\n",
    "        print(f'Yes the car is in car_names {car}')\n",
    "    else:\n",
    "        print(f'There is no such car {car}')"
   ]
  },
  {
   "cell_type": "code",
   "execution_count": 113,
   "metadata": {},
   "outputs": [
    {
     "name": "stdout",
     "output_type": "stream",
     "text": [
      "1980\n",
      "1230\n",
      "7830\n",
      "Lamborgini BMW Audi Aston martin Ferrari Porsche Mini Tesla "
     ]
    }
   ],
   "source": [
    "car_names= ['Lamborgini', 'BMW', 'Audi','Aston martin','Ferrari','Porsche','Mini','Tesla']\n",
    "car_number = [ 1980, 1230,7830]\n",
    "\n",
    "[print(car) for car in car_number]\n",
    "\n",
    "for car in range(len(car_names)):\n",
    "    print(car_names[car], end=' ')"
   ]
  },
  {
   "cell_type": "code",
   "execution_count": 122,
   "metadata": {},
   "outputs": [
    {
     "name": "stdout",
     "output_type": "stream",
     "text": [
      "['Audi', 'Aston martin']\n"
     ]
    }
   ],
   "source": [
    "car_names= ['Lamborgini', 'BMW', 'Audi','Aston martin','Ferrari','Porsche','Mini','Tesla']\n",
    "newcars = []\n",
    "for car in car_names:\n",
    "    if 'A' in car:\n",
    "        newcars.append(car)\n",
    "print(newcars)"
   ]
  },
  {
   "cell_type": "code",
   "execution_count": 133,
   "metadata": {},
   "outputs": [],
   "source": [
    "# List objects have a sort() method \n",
    "# that will sort the list alphanumerically, ascending, by default:\n",
    "car_names= ['Lamborgini', 'BMW', 'Audi','Aston martin','Ferrari','Porsche','Mini','Tesla']\n",
    "car_names.sort()"
   ]
  },
  {
   "cell_type": "code",
   "execution_count": 141,
   "metadata": {},
   "outputs": [
    {
     "name": "stdout",
     "output_type": "stream",
     "text": [
      "Ascending order ['Aston martin', 'Ferrari', 'Mini', 'Porsche', 'Tesla']\n",
      "Decending order ['Tesla', 'Porsche', 'Mini', 'Ferrari', 'Aston martin']\n"
     ]
    }
   ],
   "source": [
    "#sort(reverse = False) to sort A-Z \n",
    "#sort(reverse = True) to Sort Z-A\n",
    "car_names= ['Aston martin','Ferrari','Porsche','Mini','Tesla']\n",
    "car_names.sort(reverse=False)\n",
    "print(f'Ascending order {car_names}')\n",
    "car_names.sort(reverse=True)\n",
    "print(f'Decending order {car_names}')"
   ]
  },
  {
   "cell_type": "code",
   "execution_count": 2,
   "metadata": {},
   "outputs": [
    {
     "name": "stdout",
     "output_type": "stream",
     "text": [
      "9\n"
     ]
    }
   ],
   "source": [
    "n = 10\n",
    "print('zero' if n == 0 else (n-1))"
   ]
  },
  {
   "cell_type": "code",
   "execution_count": 6,
   "metadata": {},
   "outputs": [
    {
     "name": "stdout",
     "output_type": "stream",
     "text": [
      "True\n"
     ]
    }
   ],
   "source": [
    "from itertools import permutations\n",
    "\n",
    "class Solution:\n",
    "    def check(self, nums):\n",
    "        sorted_nums = sorted(nums)\n",
    "        for perm in permutations(nums):\n",
    "            if list(perm) == sorted_nums:\n",
    "                return True\n",
    "        return False\n",
    "\n",
    "solution = Solution()\n",
    "nums = [3, 4, 5, 1, 2]\n",
    "print(solution.check(nums))  \n"
   ]
  },
  {
   "cell_type": "code",
   "execution_count": 4,
   "metadata": {},
   "outputs": [
    {
     "name": "stdout",
     "output_type": "stream",
     "text": [
      "The index is 0 \n",
      "and the value is 1\n",
      "The index is 1 \n",
      "and the value is 2\n",
      "The index is 2 \n",
      "and the value is 3\n",
      "The index is 3 \n",
      "and the value is 4\n",
      "The index is 4 \n",
      "and the value is 5\n"
     ]
    }
   ],
   "source": [
    "mylist = [1, 2, 3, 4, 5]\n",
    "for index,value in enumerate(mylist):\n",
    "    print(f'The index is {index} \\nand the value is {value}')"
   ]
  },
  {
   "cell_type": "code",
   "execution_count": 10,
   "metadata": {},
   "outputs": [
    {
     "name": "stdout",
     "output_type": "stream",
     "text": [
      "Index: 0, Value: apple\n",
      "Index: 1, Value: banana\n",
      "Index: 2, Value: cherry\n",
      "Total items: 3\n"
     ]
    }
   ],
   "source": [
    "\n",
    "items = ['apple', 'banana', 'cherry']\n",
    "countitems = len(items)\n",
    "for index, value in enumerate(items):\n",
    "    print(f'Index: {index}, Value: {value}')\n",
    "print(f'Total items: {countitems}')"
   ]
  }
 ],
 "metadata": {
  "kernelspec": {
   "display_name": "Python 3",
   "language": "python",
   "name": "python3"
  },
  "language_info": {
   "codemirror_mode": {
    "name": "ipython",
    "version": 3
   },
   "file_extension": ".py",
   "mimetype": "text/x-python",
   "name": "python",
   "nbconvert_exporter": "python",
   "pygments_lexer": "ipython3",
   "version": "3.12.4"
  }
 },
 "nbformat": 4,
 "nbformat_minor": 2
}
