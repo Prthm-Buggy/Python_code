{
 "cells": [
  {
   "cell_type": "code",
   "execution_count": 2,
   "metadata": {},
   "outputs": [
    {
     "data": {
      "text/plain": [
       "15"
      ]
     },
     "execution_count": 2,
     "metadata": {},
     "output_type": "execute_result"
    }
   ],
   "source": [
    "a = 10  \n",
    "b = 5  \n",
    "result_add = a + b       # Addition  \n",
    "result_subtract = a - b  # Subtraction  \n",
    "result_multiply = a * b  # Multiplication  \n",
    "result_divide = a / b    # Division  \n",
    "result_floor_divide = a // b  # Floor Division  \n",
    "result_modulus = a % b   # Modulus  \n",
    "result_exponent = a ** b # Exponentiation  "
   ]
  },
  {
   "cell_type": "code",
   "execution_count": 3,
   "metadata": {},
   "outputs": [],
   "source": [
    "is_equal = (a == b)      # Equal to  \n",
    "is_not_equal = (a != b)  # Not equal to  \n",
    "is_greater = (a > b)     # Greater than  \n",
    "is_less = (a < b)        # Less than  \n",
    "is_greater_or_equal = (a >= b) # Greater than or equal  \n",
    "is_less_or_equal = (a <= b)     # Less than or equal"
   ]
  },
  {
   "cell_type": "code",
   "execution_count": null,
   "metadata": {},
   "outputs": [],
   "source": [
    "condition_and = (a > 5 and b < 10)  # Logical AND  \n",
    "condition_or = (a > 15 or b < 10)    # Logical OR  \n",
    "condition_not = not (a > b)          # Logical NOT"
   ]
  },
  {
   "cell_type": "code",
   "execution_count": null,
   "metadata": {},
   "outputs": [],
   "source": [
    "bitwise_and = a & b   # Bitwise AND  \n",
    "bitwise_or = a | b    # Bitwise OR  \n",
    "bitwise_xor = a ^ b   # Bitwise XOR  \n",
    "bitwise_not = ~a      # Bitwise NOT  \n",
    "left_shift = a << 1   # Left Shift  \n",
    "right_shift = a >> 1  # Right Shift"
   ]
  },
  {
   "cell_type": "code",
   "execution_count": null,
   "metadata": {},
   "outputs": [],
   "source": [
    "is_identity = (a is b)         # Is same object  \n",
    "is_not_identity = (a is not b) # Is not same object"
   ]
  }
 ],
 "metadata": {
  "kernelspec": {
   "display_name": "Python 3",
   "language": "python",
   "name": "python3"
  },
  "language_info": {
   "codemirror_mode": {
    "name": "ipython",
    "version": 3
   },
   "file_extension": ".py",
   "mimetype": "text/x-python",
   "name": "python",
   "nbconvert_exporter": "python",
   "pygments_lexer": "ipython3",
   "version": "3.12.4"
  }
 },
 "nbformat": 4,
 "nbformat_minor": 2
}
