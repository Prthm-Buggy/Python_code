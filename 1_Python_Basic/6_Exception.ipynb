{
 "cells": [
  {
   "cell_type": "code",
   "execution_count": 3,
   "metadata": {},
   "outputs": [
    {
     "name": "stdout",
     "output_type": "stream",
     "text": [
      "Cannot divide by zero.\n"
     ]
    }
   ],
   "source": [
    "#Exceptions are a critical part of robust programming, \n",
    "# allowing you to handle errors gracefully and maintain application stability\n",
    "Exception\t#Description\n",
    "ZeroDivisionError\t#Raised when dividing by zero.\n",
    "ValueError\t#Raised when a function receives an invalid value.\n",
    "TypeError\t#Raised when an operation is applied to incompatible types.\n",
    "IndexError\t#Raised when trying to access an invalid list index.\n",
    "KeyError\t#Raised when a key is not found in a dictionary.\n",
    "FileNotFoundError\t#Raised when a file operation fails.\n",
    "AttributeError\t#Raised when an invalid attribute is accessed.\n",
    "\n",
    "try:\n",
    "    # Code that may raise an exception\n",
    "    risky_operation() # type: ignore\n",
    "except BaseException:\n",
    "    # Code to handle the exception\n",
    "    handle_exception() # type: ignore\n"
   ]
  },
  {
   "cell_type": "code",
   "execution_count": 5,
   "metadata": {},
   "outputs": [
    {
     "name": "stdout",
     "output_type": "stream",
     "text": [
      "Error occurred: invalid literal for int() with base 10: '3r'\n"
     ]
    }
   ],
   "source": [
    "try:\n",
    "    num = int(input(\"Enter a number: \"))\n",
    "    print(10 / num)\n",
    "except (ZeroDivisionError, ValueError) as e:\n",
    "    print(f\"Error occurred: {e}\")\n"
   ]
  },
  {
   "cell_type": "code",
   "execution_count": 15,
   "metadata": {},
   "outputs": [
    {
     "name": "stdout",
     "output_type": "stream",
     "text": [
      "Age must be 18 or older to vote.\n"
     ]
    }
   ],
   "source": [
    "def check_age(age):\n",
    "    age = int(input(\"Enter age:\"))\n",
    "    if age < 18:\n",
    "        raise ValueError(\"Age must be 18 or older to vote.\")\n",
    "    return \"Valid age you can vote.\"\n",
    "\n",
    "try:\n",
    "    print(check_age(16))\n",
    "except ValueError as e:\n",
    "    print(e)\n"
   ]
  },
  {
   "cell_type": "code",
   "execution_count": 9,
   "metadata": {},
   "outputs": [
    {
     "name": "stdout",
     "output_type": "stream",
     "text": [
      "invalid literal for int() with base 10: '3r'\n"
     ]
    }
   ],
   "source": []
  }
 ],
 "metadata": {
  "kernelspec": {
   "display_name": "Python 3",
   "language": "python",
   "name": "python3"
  },
  "language_info": {
   "codemirror_mode": {
    "name": "ipython",
    "version": 3
   },
   "file_extension": ".py",
   "mimetype": "text/x-python",
   "name": "python",
   "nbconvert_exporter": "python",
   "pygments_lexer": "ipython3",
   "version": "3.12.4"
  }
 },
 "nbformat": 4,
 "nbformat_minor": 2
}
