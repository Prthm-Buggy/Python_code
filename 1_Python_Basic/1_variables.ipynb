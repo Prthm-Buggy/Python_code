{
 "cells": [
  {
   "cell_type": "code",
   "execution_count": 12,
   "metadata": {},
   "outputs": [
    {
     "name": "stdout",
     "output_type": "stream",
     "text": [
      "The value of B or any varibale is same here 12\n",
      "10 5\n",
      "sum of x and y is  15\n"
     ]
    }
   ],
   "source": [
    "# Creating a Variable\n",
    "# Python allows you to assign values to multiple variables in one line\n",
    "a= b= c = 12\n",
    "print(\"The value of B or any varibale is same here\",b)\n",
    "x,y = 10, 5\n",
    "s = x, y\n",
    "print(x,y)\n",
    "print(\"sum of x and y is \",sum(s))"
   ]
  },
  {
   "cell_type": "code",
   "execution_count": 9,
   "metadata": {},
   "outputs": [
    {
     "name": "stdout",
     "output_type": "stream",
     "text": [
      "<class 'int'>\n"
     ]
    }
   ],
   "source": [
    "#Casting \n",
    "# If you want to specify the data type of a variable, this can be done with casting.\n",
    "x = int(3)\n",
    "print(type(x))"
   ]
  },
  {
   "cell_type": "code",
   "execution_count": 6,
   "metadata": {},
   "outputs": [
    {
     "name": "stdout",
     "output_type": "stream",
     "text": [
      "Python is fantastic\n",
      "Inside\n"
     ]
    }
   ],
   "source": [
    "#Variables that are created outside of a function are known as global variables.\n",
    "#Global variables can be used by everyone, both inside of functions and outside.\n",
    "x = \"awesome\"\n",
    "def myfunc():\n",
    "  x = \"fantastic\"\n",
    "  print(\"Python is \" + x)\n",
    "\n",
    "myfunc()\n",
    "#-----------------------------------------------------------------------------------\n",
    "#glocal varibale accessible to everyone\n",
    "localvar = \"Outside\"\n",
    "def myfunction():\n",
    "    #local variable only accesible within the scope\n",
    "    localvar = \"Inside\"\n",
    "    print(localvar)\n",
    "myfunction()\n"
   ]
  },
  {
   "cell_type": "code",
   "execution_count": 27,
   "metadata": {},
   "outputs": [
    {
     "data": {
      "text/plain": [
       "20"
      ]
     },
     "execution_count": 27,
     "metadata": {},
     "output_type": "execute_result"
    }
   ],
   "source": [
    "age = 18\n",
    "def voting():\n",
    "    #Using glob varibale to modify the preexiting varibale inside  the fucntion\n",
    "    global age\n",
    "    age = 20#modifying the age 18 - 20\n",
    "    return age\n",
    "voting()"
   ]
  },
  {
   "cell_type": "code",
   "execution_count": 33,
   "metadata": {},
   "outputs": [
    {
     "name": "stdout",
     "output_type": "stream",
     "text": [
      "1 2 3 4 5 6 7 8 9 10 "
     ]
    }
   ],
   "source": [
    "\n",
    "class Solution:\n",
    "    def printNos(self,N):\n",
    "         if N == 0:\n",
    "             return\n",
    "         \n",
    "         self.printNos(N-1)\n",
    "         print(N, end=\" \")\n",
    "\n",
    "solution = Solution()\n",
    "solution.printNos(10) "
   ]
  },
  {
   "cell_type": "code",
   "execution_count": 7,
   "metadata": {},
   "outputs": [
    {
     "name": "stdout",
     "output_type": "stream",
     "text": [
      "Python is fantastic\n"
     ]
    }
   ],
   "source": [
    "x = 'awesome'\n",
    "def myfunc():\n",
    "  global x\n",
    "  x = 'fantastic'\n",
    "myfunc()\n",
    "print('Python is ' + x)"
   ]
  }
 ],
 "metadata": {
  "kernelspec": {
   "display_name": "Python 3",
   "language": "python",
   "name": "python3"
  },
  "language_info": {
   "codemirror_mode": {
    "name": "ipython",
    "version": 3
   },
   "file_extension": ".py",
   "mimetype": "text/x-python",
   "name": "python",
   "nbconvert_exporter": "python",
   "pygments_lexer": "ipython3",
   "version": "3.12.4"
  }
 },
 "nbformat": 4,
 "nbformat_minor": 2
}
