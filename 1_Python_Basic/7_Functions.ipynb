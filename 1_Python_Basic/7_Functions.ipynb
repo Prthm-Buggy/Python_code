{
 "cells": [
  {
   "cell_type": "code",
   "execution_count": 19,
   "metadata": {},
   "outputs": [
    {
     "name": "stdout",
     "output_type": "stream",
     "text": [
      "Dragon_Name: Syrax, Message: Dracarys!!\n"
     ]
    }
   ],
   "source": [
    "# A function is a block of code which only runs when it is called.\n",
    "# You can pass data, known as parameters, into a function.\n",
    "# A function can return data as a result.\n",
    "\n",
    "def greet(name,message): #Parameters\n",
    "    print(f'Dragon_Name: {name}, Message: {message}')\n",
    "#greet1\n",
    "g1 = greet(name=\"Syrax\", message='Dracarys!!') #arguments\n",
    "\n",
    "#If you try to call the function with 1 or more  arguments, you will get an error:\n",
    "# g2 = greet(name='Vhagar') "
   ]
  },
  {
   "cell_type": "code",
   "execution_count": null,
   "metadata": {},
   "outputs": [],
   "source": [
    "# A keyword argument is when you call a function and pass arguments in the form of key=value.\n",
    "# Think of it as a box where you store names (keys) with their matching values, like a dictionary.\n",
    "#----------------------------------------------------------------\n",
    "# Think of a restaurant menu.\n",
    "# *args ---> is like ordering dishes by their names:\n",
    "# \"I want a burger, pizza, and pasta.\"\n",
    "# You’re just listing items, without saying much about them.\n",
    "# --------------------------------------------------------------\n",
    "# **kwargs ---> is like customizing your order:\n",
    "# \"I want a burger with extra cheese, no onions, and add fries.\"\n",
    "# You’re specifying what kind of changes (key=value) you want for each item.\n",
    "#----------------------------------------------------------------"
   ]
  },
  {
   "cell_type": "code",
   "execution_count": 5,
   "metadata": {},
   "outputs": [
    {
     "name": "stdout",
     "output_type": "stream",
     "text": [
      "The youngest child is Tobias\n",
      "MY name is a\n",
      "MY name is b\n",
      "MY name is c\n",
      "MY name is d\n"
     ]
    }
   ],
   "source": [
    "# *args ---> is like ordering dishes by their names:\n",
    "# \"I want a burger, pizza, and pasta.\"\n",
    "# You’re just listing items, without saying much about them.\n",
    "# --------------------------------------------------------------\n",
    "def my_function(*kids):\n",
    "  print(\"The youngest child is \" + kids[1])\n",
    "my_function(\"Emil\", \"Tobias\", \"Linus\")\n",
    "# It collects them into a tuple."
   ]
  },
  {
   "cell_type": "code",
   "execution_count": 7,
   "metadata": {},
   "outputs": [
    {
     "name": "stdout",
     "output_type": "stream",
     "text": [
      "King of the north his name is JohnSnow\n"
     ]
    }
   ],
   "source": [
    "def my_function(**kid):\n",
    "  print(f'King of the north his name is '+ kid['fname'] + kid['lname'])\n",
    "my_function(fname = \"John\", lname = \"Snow\")"
   ]
  },
  {
   "cell_type": "code",
   "execution_count": 9,
   "metadata": {},
   "outputs": [
    {
     "name": "stdout",
     "output_type": "stream",
     "text": [
      "Name : John Snow\n",
      "Age : 39\n",
      "Title : King of the North\n"
     ]
    }
   ],
   "source": [
    "# **kwargs ---> is like customizing your order:\n",
    "# \"I want a burger with extra cheese, no onions, and add fries.\"\n",
    "# You’re specifying what kind of changes (key=value) you want for each item.\n",
    "#----------------------------------------------------------------\n",
    "def d(**details):\n",
    "    for i,j in details.items():\n",
    "        print(f'{i} : {j}')\n",
    "d1 = d(Name = 'John Snow', Age=39, Title = 'King of the North')"
   ]
  },
  {
   "cell_type": "code",
   "execution_count": 6,
   "metadata": {},
   "outputs": [
    {
     "name": "stdout",
     "output_type": "stream",
     "text": [
      "The car is Mini cooper\n",
      "The car is volvo\n",
      "The car is Tesla\n"
     ]
    }
   ],
   "source": [
    "def my_cars():\n",
    "    for car in carlist:\n",
    "        print(f'The car is {car}')\n",
    "carlist = ['Mini cooper','volvo','Tesla']\n",
    "my_cars()"
   ]
  },
  {
   "cell_type": "code",
   "execution_count": null,
   "metadata": {},
   "outputs": [],
   "source": []
  }
 ],
 "metadata": {
  "kernelspec": {
   "display_name": "Python 3",
   "language": "python",
   "name": "python3"
  },
  "language_info": {
   "codemirror_mode": {
    "name": "ipython",
    "version": 3
   },
   "file_extension": ".py",
   "mimetype": "text/x-python",
   "name": "python",
   "nbconvert_exporter": "python",
   "pygments_lexer": "ipython3",
   "version": "3.12.4"
  }
 },
 "nbformat": 4,
 "nbformat_minor": 2
}
