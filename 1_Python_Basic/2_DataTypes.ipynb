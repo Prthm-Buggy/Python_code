{
 "cells": [
  {
   "cell_type": "code",
   "execution_count": 27,
   "metadata": {},
   "outputs": [
    {
     "data": {
      "text/plain": [
       "{'Name': 'Prathamesh', 'Age': 16, 'job': 'DA'}"
      ]
     },
     "execution_count": 27,
     "metadata": {},
     "output_type": "execute_result"
    }
   ],
   "source": [
    "s= str('hello')\n",
    "i = int(5.5)\n",
    "f = float(5)\n",
    "l = list(['apple', 'graphs'])\n",
    "c = complex(3j)\n",
    "t = tuple(('a','b','c'))\n",
    "ss = set((\"car\",\"bike\",\"plane\"))\n",
    "r = range(10)\n",
    "d = dict({'Name':'Prathamesh','Age': 16, 'job':'DA'})\n"
   ]
  },
  {
   "cell_type": "code",
   "execution_count": 31,
   "metadata": {},
   "outputs": [
    {
     "name": "stdout",
     "output_type": "stream",
     "text": [
      "Original string: Hello, world \n"
     ]
    },
    {
     "data": {
      "text/plain": [
       "'Hello, world'"
      ]
     },
     "execution_count": 31,
     "metadata": {},
     "output_type": "execute_result"
    }
   ],
   "source": [
    "#The strip() method removes any whitespace from the beginning or the end\n",
    "a = \"Hello, world \"\n",
    "print(\"Original string:\",a)\n",
    "a.strip()"
   ]
  },
  {
   "cell_type": "code",
   "execution_count": 34,
   "metadata": {},
   "outputs": [
    {
     "name": "stdout",
     "output_type": "stream",
     "text": [
      "Original string: Hello, world \n"
     ]
    },
    {
     "data": {
      "text/plain": [
       "'Hello, Dark'"
      ]
     },
     "execution_count": 34,
     "metadata": {},
     "output_type": "execute_result"
    }
   ],
   "source": [
    "#The replace() method replaces a string with another string:\n",
    "a = \"Hello, world \"\n",
    "print(\"Original string:\",a)\n",
    "r = a.replace('world','Dark')\n",
    "r.strip()"
   ]
  },
  {
   "cell_type": "code",
   "execution_count": 39,
   "metadata": {},
   "outputs": [
    {
     "data": {
      "text/plain": [
       "'My name is : Pratham &  age is 21'"
      ]
     },
     "execution_count": 39,
     "metadata": {},
     "output_type": "execute_result"
    }
   ],
   "source": [
    "#we can not combine string and number \n",
    "#but we can combine strings and numbers by using f-strings or the format() method!\n",
    "#f'syntax{variable_name}'\n",
    "name = 'Pratham'\n",
    "age = 21\n",
    "myprofile  = f'My name is : {name} &  age is {age}'\n",
    "myprofile"
   ]
  },
  {
   "cell_type": "code",
   "execution_count": 40,
   "metadata": {},
   "outputs": [
    {
     "name": "stdout",
     "output_type": "stream",
     "text": [
      "Don't\n"
     ]
    }
   ],
   "source": [
    "#Escape char\n",
    "# \\'\tSingle Quote\t\n",
    "print(\"Don\\'t\")\n",
    "# \\\\\tBackslash\t\n",
    "# \\n\tNew Line\t\n",
    "# \\r\tCarriage Return\t\n",
    "# \\t\tTab\t\n",
    "# \\b\tBackspace\t\n",
    "# \\f\tForm Feed\t\n",
    "# \\ooo\tOctal value\t\n",
    "# \\xhh\tHex value"
   ]
  },
  {
   "cell_type": "code",
   "execution_count": null,
   "metadata": {},
   "outputs": [],
   "source": []
  },
  {
   "cell_type": "code",
   "execution_count": null,
   "metadata": {},
   "outputs": [],
   "source": []
  }
 ],
 "metadata": {
  "kernelspec": {
   "display_name": "Python 3",
   "language": "python",
   "name": "python3"
  },
  "language_info": {
   "codemirror_mode": {
    "name": "ipython",
    "version": 3
   },
   "file_extension": ".py",
   "mimetype": "text/x-python",
   "name": "python",
   "nbconvert_exporter": "python",
   "pygments_lexer": "ipython3",
   "version": "3.12.4"
  }
 },
 "nbformat": 4,
 "nbformat_minor": 2
}
